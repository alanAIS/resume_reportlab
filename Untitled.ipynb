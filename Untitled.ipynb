{
 "cells": [
  {
   "cell_type": "code",
   "execution_count": 1,
   "id": "spread-timeline",
   "metadata": {},
   "outputs": [
    {
     "data": {
      "text/plain": [
       "['.git',\n",
       " '.ipynb_checkpoints',\n",
       " 'defalt_start_doc_project_folder.7z',\n",
       " 'default_dtp_project',\n",
       " 'fonts',\n",
       " 'git_auto',\n",
       " 'main.py',\n",
       " 'README.md',\n",
       " 'resume',\n",
       " 'resume.pdf',\n",
       " 'Untitled.ipynb']"
      ]
     },
     "execution_count": 1,
     "metadata": {},
     "output_type": "execute_result"
    }
   ],
   "source": [
    "import os\n",
    "os.listdir()"
   ]
  },
  {
   "cell_type": "code",
   "execution_count": 2,
   "id": "empty-clone",
   "metadata": {},
   "outputs": [
    {
     "data": {
      "text/plain": [
       "['contents.py',\n",
       " 'fonts.py',\n",
       " 'master.py',\n",
       " 'section_ids.py',\n",
       " 'settings.py',\n",
       " 'text.py',\n",
       " '__init__.py',\n",
       " '__pycache__']"
      ]
     },
     "execution_count": 2,
     "metadata": {},
     "output_type": "execute_result"
    }
   ],
   "source": [
    "os.listdir('resume')"
   ]
  },
  {
   "cell_type": "code",
   "execution_count": 17,
   "id": "close-decrease",
   "metadata": {},
   "outputs": [
    {
     "data": {
      "text/plain": [
       "{'columns': ['Course', 'Institution', 'Year', 'Remarks'],\n",
       " 'data': [['Postgraduate Programme in Data Science and Engineering',\n",
       "   'Great Lakes Institute of Management',\n",
       "   '2020',\n",
       "   'Certificate Link: https://verify.greatlearning.in/FFEJOUXA'],\n",
       "  ['B Th.', 'Urbaniana University, ROMA', '2014', '85%'],\n",
       "  ['B A-Philosophy', 'Kerala University', '2010', '62%'],\n",
       "  ['Higher Secondary',\n",
       "   'St. Mary’s Higher Secondary School, Pattom, Trivandrum',\n",
       "   '2007',\n",
       "   '82%'],\n",
       "  ['SSLC-10',\n",
       "   'Sacred Heart High School, Mylapra, Pathanamthitta',\n",
       "   '2004',\n",
       "   '80%']]}"
      ]
     },
     "execution_count": 17,
     "metadata": {},
     "output_type": "execute_result"
    }
   ],
   "source": [
    "from resume.text import data\n",
    "edu = data['education']\n",
    "tab=edu['table']\n",
    "tab"
   ]
  },
  {
   "cell_type": "code",
   "execution_count": 7,
   "id": "herbal-cleaners",
   "metadata": {},
   "outputs": [
    {
     "data": {
      "text/plain": [
       "dict_keys(['summary', 'keyskills', 'professional_summary', 'projects', 'education', 'other_certifications', 'contact'])"
      ]
     },
     "execution_count": 7,
     "metadata": {},
     "output_type": "execute_result"
    }
   ],
   "source": [
    "data.keys()"
   ]
  },
  {
   "cell_type": "code",
   "execution_count": 10,
   "id": "nonprofit-alignment",
   "metadata": {},
   "outputs": [
    {
     "data": {
      "text/plain": [
       "dict_keys(['heading', 'table'])"
      ]
     },
     "execution_count": 10,
     "metadata": {},
     "output_type": "execute_result"
    }
   ],
   "source": [
    "\n",
    "edu.keys()"
   ]
  },
  {
   "cell_type": "code",
   "execution_count": 15,
   "id": "genetic-credit",
   "metadata": {},
   "outputs": [
    {
     "data": {
      "text/plain": [
       "dict_keys(['columns', 'data'])"
      ]
     },
     "execution_count": 15,
     "metadata": {},
     "output_type": "execute_result"
    }
   ],
   "source": [
    "\n",
    "tab.keys()"
   ]
  },
  {
   "cell_type": "code",
   "execution_count": 16,
   "id": "expensive-candle",
   "metadata": {},
   "outputs": [
    {
     "data": {
      "text/plain": [
       "['Course', 'Institution', 'Year', 'Remarks']"
      ]
     },
     "execution_count": 16,
     "metadata": {},
     "output_type": "execute_result"
    }
   ],
   "source": [
    "tab['columns']"
   ]
  },
  {
   "cell_type": "code",
   "execution_count": null,
   "id": "seeing-gateway",
   "metadata": {},
   "outputs": [],
   "source": []
  },
  {
   "cell_type": "code",
   "execution_count": null,
   "id": "painful-celebration",
   "metadata": {},
   "outputs": [],
   "source": []
  },
  {
   "cell_type": "code",
   "execution_count": 8,
   "id": "partial-astrology",
   "metadata": {},
   "outputs": [],
   "source": [
    "import pandas as pd"
   ]
  },
  {
   "cell_type": "code",
   "execution_count": 16,
   "id": "approved-beast",
   "metadata": {},
   "outputs": [],
   "source": [
    "# EDUCATION\t\n",
    "string='''Course\n",
    "Institution\n",
    "Year\n",
    "Remarks\n",
    "\n",
    "Postgraduate Programme in Data Science and Engineering\n",
    "Great Lakes Institute of Management\n",
    "2020\n",
    "Certificate Link: https:// verify.greatlearning.in/ FFEJOUXA\n",
    "\n",
    "B Th.\n",
    "Urbaniana University, ROMA\n",
    "2014\n",
    "85%\n",
    "\n",
    "B A-Philosophy\n",
    "Kerala University\n",
    "2010\n",
    "62%\n",
    "\n",
    "Higher Secondary\n",
    "St. Mary’s Higher Secondary School, Pattom,Trivandrum\n",
    "2007\n",
    "82%\n",
    "\n",
    "SSLC-10 \n",
    "Sacred Heart High School, Mylapra, Pathanamthitta\n",
    "2004\n",
    "80%\n",
    "'''\n"
   ]
  },
  {
   "cell_type": "code",
   "execution_count": 17,
   "id": "informal-eight",
   "metadata": {},
   "outputs": [
    {
     "data": {
      "text/plain": [
       "'Course\\nInstitution\\nYear\\nRemarks\\n\\nPostgraduate Programme in Data Science and Engineering\\nGreat Lakes Institute of Management\\n2020\\nCertificate Link: https:// verify.greatlearning.in/ FFEJOUXA\\n\\nB Th.\\nUrbaniana University, ROMA\\n2014\\n85%\\n\\nB A-Philosophy\\nKerala University\\n2010\\n62%\\n\\nHigher Secondary\\nSt. Mary’s Higher Secondary School, Pattom,Trivandrum\\n2007\\n82%\\n\\nSSLC-10 \\nSacred Heart High School, Mylapra, Pathanamthitta\\n2004\\n80%\\n'"
      ]
     },
     "execution_count": 17,
     "metadata": {},
     "output_type": "execute_result"
    }
   ],
   "source": [
    "string"
   ]
  },
  {
   "cell_type": "code",
   "execution_count": 46,
   "id": "polar-devices",
   "metadata": {},
   "outputs": [],
   "source": [
    "ls = [[i.strip() for i in row.split('\\n')] for row in string.split('\\n\\n')]"
   ]
  },
  {
   "cell_type": "code",
   "execution_count": 47,
   "id": "suspected-sydney",
   "metadata": {},
   "outputs": [
    {
     "data": {
      "text/plain": [
       "[['Course', 'Institution', 'Year', 'Remarks'],\n",
       " ['Postgraduate Programme in Data Science and Engineering',\n",
       "  'Great Lakes Institute of Management',\n",
       "  '2020',\n",
       "  'Certificate Link: https:// verify.greatlearning.in/ FFEJOUXA'],\n",
       " ['B Th.', 'Urbaniana University, ROMA', '2014', '85%'],\n",
       " ['B A-Philosophy', 'Kerala University', '2010', '62%'],\n",
       " ['Higher Secondary',\n",
       "  'St. Mary’s Higher Secondary School, Pattom,Trivandrum',\n",
       "  '2007',\n",
       "  '82%'],\n",
       " ['SSLC-10',\n",
       "  'Sacred Heart High School, Mylapra, Pathanamthitta',\n",
       "  '2004',\n",
       "  '80%',\n",
       "  '']]"
      ]
     },
     "execution_count": 47,
     "metadata": {},
     "output_type": "execute_result"
    }
   ],
   "source": [
    "ls"
   ]
  },
  {
   "cell_type": "code",
   "execution_count": 54,
   "id": "mediterranean-architect",
   "metadata": {},
   "outputs": [],
   "source": [
    "df = pd.DataFrame.from_records(ls)\n",
    "df.columns = df.loc[0]\n",
    "df.drop(0, inplace=True)\n",
    "df.drop(columns = [None], inplace=True)"
   ]
  },
  {
   "cell_type": "code",
   "execution_count": 55,
   "id": "rotary-carter",
   "metadata": {},
   "outputs": [
    {
     "data": {
      "text/html": [
       "<div>\n",
       "<style scoped>\n",
       "    .dataframe tbody tr th:only-of-type {\n",
       "        vertical-align: middle;\n",
       "    }\n",
       "\n",
       "    .dataframe tbody tr th {\n",
       "        vertical-align: top;\n",
       "    }\n",
       "\n",
       "    .dataframe thead th {\n",
       "        text-align: right;\n",
       "    }\n",
       "</style>\n",
       "<table border=\"1\" class=\"dataframe\">\n",
       "  <thead>\n",
       "    <tr style=\"text-align: right;\">\n",
       "      <th></th>\n",
       "      <th>Course</th>\n",
       "      <th>Institution</th>\n",
       "      <th>Year</th>\n",
       "      <th>Remarks</th>\n",
       "    </tr>\n",
       "  </thead>\n",
       "  <tbody>\n",
       "    <tr>\n",
       "      <th>1</th>\n",
       "      <td>Postgraduate Programme in Data Science and Eng...</td>\n",
       "      <td>Great Lakes Institute of Management</td>\n",
       "      <td>2020</td>\n",
       "      <td>Certificate Link: https:// verify.greatlearnin...</td>\n",
       "    </tr>\n",
       "    <tr>\n",
       "      <th>2</th>\n",
       "      <td>B Th.</td>\n",
       "      <td>Urbaniana University, ROMA</td>\n",
       "      <td>2014</td>\n",
       "      <td>85%</td>\n",
       "    </tr>\n",
       "    <tr>\n",
       "      <th>3</th>\n",
       "      <td>B A-Philosophy</td>\n",
       "      <td>Kerala University</td>\n",
       "      <td>2010</td>\n",
       "      <td>62%</td>\n",
       "    </tr>\n",
       "    <tr>\n",
       "      <th>4</th>\n",
       "      <td>Higher Secondary</td>\n",
       "      <td>St. Mary’s Higher Secondary School, Pattom,Tri...</td>\n",
       "      <td>2007</td>\n",
       "      <td>82%</td>\n",
       "    </tr>\n",
       "    <tr>\n",
       "      <th>5</th>\n",
       "      <td>SSLC-10</td>\n",
       "      <td>Sacred Heart High School, Mylapra, Pathanamthitta</td>\n",
       "      <td>2004</td>\n",
       "      <td>80%</td>\n",
       "    </tr>\n",
       "  </tbody>\n",
       "</table>\n",
       "</div>"
      ],
      "text/plain": [
       "0                                             Course  \\\n",
       "1  Postgraduate Programme in Data Science and Eng...   \n",
       "2                                              B Th.   \n",
       "3                                     B A-Philosophy   \n",
       "4                                   Higher Secondary   \n",
       "5                                            SSLC-10   \n",
       "\n",
       "0                                        Institution  Year  \\\n",
       "1                Great Lakes Institute of Management  2020   \n",
       "2                         Urbaniana University, ROMA  2014   \n",
       "3                                  Kerala University  2010   \n",
       "4  St. Mary’s Higher Secondary School, Pattom,Tri...  2007   \n",
       "5  Sacred Heart High School, Mylapra, Pathanamthitta  2004   \n",
       "\n",
       "0                                            Remarks  \n",
       "1  Certificate Link: https:// verify.greatlearnin...  \n",
       "2                                                85%  \n",
       "3                                                62%  \n",
       "4                                                82%  \n",
       "5                                                80%  "
      ]
     },
     "execution_count": 55,
     "metadata": {},
     "output_type": "execute_result"
    }
   ],
   "source": [
    "df"
   ]
  },
  {
   "cell_type": "code",
   "execution_count": 62,
   "id": "suspected-company",
   "metadata": {},
   "outputs": [
    {
     "data": {
      "text/plain": [
       "dict_keys(['index', 'columns', 'data'])"
      ]
     },
     "execution_count": 62,
     "metadata": {},
     "output_type": "execute_result"
    }
   ],
   "source": [
    "dct = df.to_dict(orient='split')\n",
    "dct.keys()"
   ]
  },
  {
   "cell_type": "code",
   "execution_count": 66,
   "id": "necessary-jamaica",
   "metadata": {},
   "outputs": [
    {
     "data": {
      "text/plain": [
       "{'index': [1, 2, 3, 4, 5],\n",
       " 'columns': ['Course', 'Institution', 'Year', 'Remarks'],\n",
       " 'data': [['Postgraduate Programme in Data Science and Engineering',\n",
       "   'Great Lakes Institute of Management',\n",
       "   '2020',\n",
       "   'Certificate Link: https:// verify.greatlearning.in/ FFEJOUXA'],\n",
       "  ['B Th.', 'Urbaniana University, ROMA', '2014', '85%'],\n",
       "  ['B A-Philosophy', 'Kerala University', '2010', '62%'],\n",
       "  ['Higher Secondary',\n",
       "   'St. Mary’s Higher Secondary School, Pattom,Trivandrum',\n",
       "   '2007',\n",
       "   '82%'],\n",
       "  ['SSLC-10',\n",
       "   'Sacred Heart High School, Mylapra, Pathanamthitta',\n",
       "   '2004',\n",
       "   '80%']]}"
      ]
     },
     "execution_count": 66,
     "metadata": {},
     "output_type": "execute_result"
    }
   ],
   "source": [
    "dct"
   ]
  },
  {
   "cell_type": "code",
   "execution_count": null,
   "id": "postal-aquarium",
   "metadata": {},
   "outputs": [],
   "source": []
  }
 ],
 "metadata": {
  "kernelspec": {
   "display_name": "Python 3",
   "language": "python",
   "name": "python3"
  },
  "language_info": {
   "codemirror_mode": {
    "name": "ipython",
    "version": 3
   },
   "file_extension": ".py",
   "mimetype": "text/x-python",
   "name": "python",
   "nbconvert_exporter": "python",
   "pygments_lexer": "ipython3",
   "version": "3.9.2"
  }
 },
 "nbformat": 4,
 "nbformat_minor": 5
}
