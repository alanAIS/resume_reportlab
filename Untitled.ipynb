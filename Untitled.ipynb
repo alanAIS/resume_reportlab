{
 "cells": [
  {
   "cell_type": "code",
   "execution_count": 1,
   "id": "present-velvet",
   "metadata": {},
   "outputs": [
    {
     "data": {
      "text/plain": [
       "['.git',\n",
       " '.ipynb_checkpoints',\n",
       " 'defalt_start_doc_project_folder.7z',\n",
       " 'default_dtp_project',\n",
       " 'fonts',\n",
       " 'git_auto',\n",
       " 'main.py',\n",
       " 'README.md',\n",
       " 'resume',\n",
       " 'resume.pdf',\n",
       " 'Untitled.ipynb']"
      ]
     },
     "execution_count": 1,
     "metadata": {},
     "output_type": "execute_result"
    }
   ],
   "source": [
    "import os\n",
    "os.listdir()"
   ]
  },
  {
   "cell_type": "code",
   "execution_count": 2,
   "id": "little-alloy",
   "metadata": {},
   "outputs": [
    {
     "data": {
      "text/plain": [
       "['contents.py',\n",
       " 'fonts.py',\n",
       " 'master.py',\n",
       " 'section_ids.py',\n",
       " 'settings.py',\n",
       " 'text.py',\n",
       " '__init__.py',\n",
       " '__pycache__']"
      ]
     },
     "execution_count": 2,
     "metadata": {},
     "output_type": "execute_result"
    }
   ],
   "source": [
    "os.listdir('resume')"
   ]
  },
  {
   "cell_type": "code",
   "execution_count": 17,
   "id": "authorized-midnight",
   "metadata": {},
   "outputs": [
    {
     "data": {
      "text/plain": [
       "{'columns': ['Course', 'Institution', 'Year', 'Remarks'],\n",
       " 'data': [['Postgraduate Programme in Data Science and Engineering',\n",
       "   'Great Lakes Institute of Management',\n",
       "   '2020',\n",
       "   'Certificate Link: https://verify.greatlearning.in/FFEJOUXA'],\n",
       "  ['B Th.', 'Urbaniana University, ROMA', '2014', '85%'],\n",
       "  ['B A-Philosophy', 'Kerala University', '2010', '62%'],\n",
       "  ['Higher Secondary',\n",
       "   'St. Mary’s Higher Secondary School, Pattom, Trivandrum',\n",
       "   '2007',\n",
       "   '82%'],\n",
       "  ['SSLC-10',\n",
       "   'Sacred Heart High School, Mylapra, Pathanamthitta',\n",
       "   '2004',\n",
       "   '80%']]}"
      ]
     },
     "execution_count": 17,
     "metadata": {},
     "output_type": "execute_result"
    }
   ],
   "source": [
    "from resume.text import data\n",
    "edu = data['education']\n",
    "tab=edu['table']\n",
    "tab"
   ]
  },
  {
   "cell_type": "code",
   "execution_count": 7,
   "id": "careful-canvas",
   "metadata": {},
   "outputs": [
    {
     "data": {
      "text/plain": [
       "dict_keys(['summary', 'keyskills', 'professional_summary', 'projects', 'education', 'other_certifications', 'contact'])"
      ]
     },
     "execution_count": 7,
     "metadata": {},
     "output_type": "execute_result"
    }
   ],
   "source": [
    "data.keys()"
   ]
  },
  {
   "cell_type": "code",
   "execution_count": 10,
   "id": "economic-switch",
   "metadata": {},
   "outputs": [
    {
     "data": {
      "text/plain": [
       "dict_keys(['heading', 'table'])"
      ]
     },
     "execution_count": 10,
     "metadata": {},
     "output_type": "execute_result"
    }
   ],
   "source": [
    "\n",
    "edu.keys()"
   ]
  },
  {
   "cell_type": "code",
   "execution_count": 15,
   "id": "ready-sessions",
   "metadata": {},
   "outputs": [
    {
     "data": {
      "text/plain": [
       "dict_keys(['columns', 'data'])"
      ]
     },
     "execution_count": 15,
     "metadata": {},
     "output_type": "execute_result"
    }
   ],
   "source": [
    "\n",
    "tab.keys()"
   ]
  },
  {
   "cell_type": "code",
   "execution_count": 16,
   "id": "stable-southwest",
   "metadata": {},
   "outputs": [
    {
     "data": {
      "text/plain": [
       "['Course', 'Institution', 'Year', 'Remarks']"
      ]
     },
     "execution_count": 16,
     "metadata": {},
     "output_type": "execute_result"
    }
   ],
   "source": [
    "tab['columns']"
   ]
  },
  {
   "cell_type": "code",
   "execution_count": null,
   "id": "capital-ferry",
   "metadata": {},
   "outputs": [],
   "source": []
  },
  {
   "cell_type": "code",
   "execution_count": null,
   "id": "contrary-notice",
   "metadata": {},
   "outputs": [],
   "source": []
  },
  {
   "cell_type": "code",
   "execution_count": 8,
   "id": "differential-butler",
   "metadata": {},
   "outputs": [],
   "source": [
    "import pandas as pd"
   ]
  },
  {
   "cell_type": "code",
   "execution_count": 16,
   "id": "certified-annex",
   "metadata": {},
   "outputs": [],
   "source": [
    "# EDUCATION\t\n",
    "string='''Course\n",
    "Institution\n",
    "Year\n",
    "Remarks\n",
    "\n",
    "Postgraduate Programme in Data Science and Engineering\n",
    "Great Lakes Institute of Management\n",
    "2020\n",
    "Certificate Link: https:// verify.greatlearning.in/ FFEJOUXA\n",
    "\n",
    "B Th.\n",
    "Urbaniana University, ROMA\n",
    "2014\n",
    "85%\n",
    "\n",
    "B A-Philosophy\n",
    "Kerala University\n",
    "2010\n",
    "62%\n",
    "\n",
    "Higher Secondary\n",
    "St. Mary’s Higher Secondary School, Pattom,Trivandrum\n",
    "2007\n",
    "82%\n",
    "\n",
    "SSLC-10 \n",
    "Sacred Heart High School, Mylapra, Pathanamthitta\n",
    "2004\n",
    "80%\n",
    "'''\n"
   ]
  },
  {
   "cell_type": "code",
   "execution_count": 17,
   "id": "sonic-white",
   "metadata": {},
   "outputs": [
    {
     "data": {
      "text/plain": [
       "'Course\\nInstitution\\nYear\\nRemarks\\n\\nPostgraduate Programme in Data Science and Engineering\\nGreat Lakes Institute of Management\\n2020\\nCertificate Link: https:// verify.greatlearning.in/ FFEJOUXA\\n\\nB Th.\\nUrbaniana University, ROMA\\n2014\\n85%\\n\\nB A-Philosophy\\nKerala University\\n2010\\n62%\\n\\nHigher Secondary\\nSt. Mary’s Higher Secondary School, Pattom,Trivandrum\\n2007\\n82%\\n\\nSSLC-10 \\nSacred Heart High School, Mylapra, Pathanamthitta\\n2004\\n80%\\n'"
      ]
     },
     "execution_count": 17,
     "metadata": {},
     "output_type": "execute_result"
    }
   ],
   "source": [
    "string"
   ]
  },
  {
   "cell_type": "code",
   "execution_count": 46,
   "id": "orange-domain",
   "metadata": {},
   "outputs": [],
   "source": [
    "ls = [[i.strip() for i in row.split('\\n')] for row in string.split('\\n\\n')]"
   ]
  },
  {
   "cell_type": "code",
   "execution_count": 47,
   "id": "acceptable-tension",
   "metadata": {},
   "outputs": [
    {
     "data": {
      "text/plain": [
       "[['Course', 'Institution', 'Year', 'Remarks'],\n",
       " ['Postgraduate Programme in Data Science and Engineering',\n",
       "  'Great Lakes Institute of Management',\n",
       "  '2020',\n",
       "  'Certificate Link: https:// verify.greatlearning.in/ FFEJOUXA'],\n",
       " ['B Th.', 'Urbaniana University, ROMA', '2014', '85%'],\n",
       " ['B A-Philosophy', 'Kerala University', '2010', '62%'],\n",
       " ['Higher Secondary',\n",
       "  'St. Mary’s Higher Secondary School, Pattom,Trivandrum',\n",
       "  '2007',\n",
       "  '82%'],\n",
       " ['SSLC-10',\n",
       "  'Sacred Heart High School, Mylapra, Pathanamthitta',\n",
       "  '2004',\n",
       "  '80%',\n",
       "  '']]"
      ]
     },
     "execution_count": 47,
     "metadata": {},
     "output_type": "execute_result"
    }
   ],
   "source": [
    "ls"
   ]
  },
  {
   "cell_type": "code",
   "execution_count": 54,
   "id": "right-tension",
   "metadata": {},
   "outputs": [],
   "source": [
    "df = pd.DataFrame.from_records(ls)\n",
    "df.columns = df.loc[0]\n",
    "df.drop(0, inplace=True)\n",
    "df.drop(columns = [None], inplace=True)"
   ]
  },
  {
   "cell_type": "code",
   "execution_count": 55,
   "id": "regional-worker",
   "metadata": {},
   "outputs": [
    {
     "data": {
      "text/html": [
       "<div>\n",
       "<style scoped>\n",
       "    .dataframe tbody tr th:only-of-type {\n",
       "        vertical-align: middle;\n",
       "    }\n",
       "\n",
       "    .dataframe tbody tr th {\n",
       "        vertical-align: top;\n",
       "    }\n",
       "\n",
       "    .dataframe thead th {\n",
       "        text-align: right;\n",
       "    }\n",
       "</style>\n",
       "<table border=\"1\" class=\"dataframe\">\n",
       "  <thead>\n",
       "    <tr style=\"text-align: right;\">\n",
       "      <th></th>\n",
       "      <th>Course</th>\n",
       "      <th>Institution</th>\n",
       "      <th>Year</th>\n",
       "      <th>Remarks</th>\n",
       "    </tr>\n",
       "  </thead>\n",
       "  <tbody>\n",
       "    <tr>\n",
       "      <th>1</th>\n",
       "      <td>Postgraduate Programme in Data Science and Eng...</td>\n",
       "      <td>Great Lakes Institute of Management</td>\n",
       "      <td>2020</td>\n",
       "      <td>Certificate Link: https:// verify.greatlearnin...</td>\n",
       "    </tr>\n",
       "    <tr>\n",
       "      <th>2</th>\n",
       "      <td>B Th.</td>\n",
       "      <td>Urbaniana University, ROMA</td>\n",
       "      <td>2014</td>\n",
       "      <td>85%</td>\n",
       "    </tr>\n",
       "    <tr>\n",
       "      <th>3</th>\n",
       "      <td>B A-Philosophy</td>\n",
       "      <td>Kerala University</td>\n",
       "      <td>2010</td>\n",
       "      <td>62%</td>\n",
       "    </tr>\n",
       "    <tr>\n",
       "      <th>4</th>\n",
       "      <td>Higher Secondary</td>\n",
       "      <td>St. Mary’s Higher Secondary School, Pattom,Tri...</td>\n",
       "      <td>2007</td>\n",
       "      <td>82%</td>\n",
       "    </tr>\n",
       "    <tr>\n",
       "      <th>5</th>\n",
       "      <td>SSLC-10</td>\n",
       "      <td>Sacred Heart High School, Mylapra, Pathanamthitta</td>\n",
       "      <td>2004</td>\n",
       "      <td>80%</td>\n",
       "    </tr>\n",
       "  </tbody>\n",
       "</table>\n",
       "</div>"
      ],
      "text/plain": [
       "0                                             Course  \\\n",
       "1  Postgraduate Programme in Data Science and Eng...   \n",
       "2                                              B Th.   \n",
       "3                                     B A-Philosophy   \n",
       "4                                   Higher Secondary   \n",
       "5                                            SSLC-10   \n",
       "\n",
       "0                                        Institution  Year  \\\n",
       "1                Great Lakes Institute of Management  2020   \n",
       "2                         Urbaniana University, ROMA  2014   \n",
       "3                                  Kerala University  2010   \n",
       "4  St. Mary’s Higher Secondary School, Pattom,Tri...  2007   \n",
       "5  Sacred Heart High School, Mylapra, Pathanamthitta  2004   \n",
       "\n",
       "0                                            Remarks  \n",
       "1  Certificate Link: https:// verify.greatlearnin...  \n",
       "2                                                85%  \n",
       "3                                                62%  \n",
       "4                                                82%  \n",
       "5                                                80%  "
      ]
     },
     "execution_count": 55,
     "metadata": {},
     "output_type": "execute_result"
    }
   ],
   "source": [
    "df"
   ]
  },
  {
   "cell_type": "code",
   "execution_count": 62,
   "id": "hired-clothing",
   "metadata": {},
   "outputs": [
    {
     "data": {
      "text/plain": [
       "dict_keys(['index', 'columns', 'data'])"
      ]
     },
     "execution_count": 62,
     "metadata": {},
     "output_type": "execute_result"
    }
   ],
   "source": [
    "dct = df.to_dict(orient='split')\n",
    "dct.keys()"
   ]
  },
  {
   "cell_type": "code",
   "execution_count": 66,
   "id": "nervous-adelaide",
   "metadata": {},
   "outputs": [
    {
     "data": {
      "text/plain": [
       "{'index': [1, 2, 3, 4, 5],\n",
       " 'columns': ['Course', 'Institution', 'Year', 'Remarks'],\n",
       " 'data': [['Postgraduate Programme in Data Science and Engineering',\n",
       "   'Great Lakes Institute of Management',\n",
       "   '2020',\n",
       "   'Certificate Link: https:// verify.greatlearning.in/ FFEJOUXA'],\n",
       "  ['B Th.', 'Urbaniana University, ROMA', '2014', '85%'],\n",
       "  ['B A-Philosophy', 'Kerala University', '2010', '62%'],\n",
       "  ['Higher Secondary',\n",
       "   'St. Mary’s Higher Secondary School, Pattom,Trivandrum',\n",
       "   '2007',\n",
       "   '82%'],\n",
       "  ['SSLC-10',\n",
       "   'Sacred Heart High School, Mylapra, Pathanamthitta',\n",
       "   '2004',\n",
       "   '80%']]}"
      ]
     },
     "execution_count": 66,
     "metadata": {},
     "output_type": "execute_result"
    }
   ],
   "source": [
    "dct"
   ]
  },
  {
   "cell_type": "code",
   "execution_count": 18,
   "id": "adolescent-steal",
   "metadata": {},
   "outputs": [
    {
     "name": "stdout",
     "output_type": "stream",
     "text": [
      "Defaulting to user installation because normal site-packages is not writeable\n",
      "Collecting win10toast\n",
      "  Downloading win10toast-0.9-py2.py3-none-any.whl (21 kB)\n",
      "Requirement already satisfied: pypiwin32 in c:\\users\\santo kalayil\\appdata\\roaming\\python\\python39\\site-packages (from win10toast) (223)\n",
      "Requirement already satisfied: setuptools in c:\\program files\\python39\\lib\\site-packages (from win10toast) (49.2.1)\n",
      "Requirement already satisfied: pywin32>=223 in c:\\users\\santo kalayil\\appdata\\roaming\\python\\python39\\site-packages (from pypiwin32->win10toast) (300)\n",
      "Installing collected packages: win10toast\n",
      "Successfully installed win10toast-0.9\n"
     ]
    }
   ],
   "source": [
    "# Windows notification\n",
    "!pip install win10toast"
   ]
  },
  {
   "cell_type": "code",
   "execution_count": 19,
   "id": "intermediate-toilet",
   "metadata": {},
   "outputs": [
    {
     "name": "stderr",
     "output_type": "stream",
     "text": [
      "ERROR:root:Some trouble with the icon (A:\\windows\\python\\pycharm\\report_lab_dtp\\icon.ico): (2, 'LoadImage', 'The system cannot find the file specified.')\n"
     ]
    },
    {
     "data": {
      "text/plain": [
       "True"
      ]
     },
     "execution_count": 19,
     "metadata": {},
     "output_type": "execute_result"
    }
   ],
   "source": [
    "from win10toast import ToastNotifier\n",
    "toast = ToastNotifier()\n",
    "toast.show_toast(\"Notification\",\"Notification body\",duration=20,icon_path=\"icon.ico\")"
   ]
  },
  {
   "cell_type": "code",
   "execution_count": 21,
   "id": "great-amount",
   "metadata": {},
   "outputs": [
    {
     "name": "stdout",
     "output_type": "stream",
     "text": [
      "Defaulting to user installation because normal site-packages is not writeable\n",
      "Collecting plyer\n",
      "  Downloading plyer-2.0.0-py2.py3-none-any.whl (131 kB)\n",
      "Installing collected packages: plyer\n",
      "Successfully installed plyer-2.0.0\n"
     ]
    }
   ],
   "source": [
    "!pip install plyer\n",
    "from plyer import notification\n",
    "\n",
    "notification.notify(\n",
    "title = \"Sample Notification\",\n",
    "message = \"This is a sample notification\",\n",
    "timeout = 10\n",
    ")"
   ]
  },
  {
   "cell_type": "code",
   "execution_count": 22,
   "id": "together-karaoke",
   "metadata": {},
   "outputs": [
    {
     "ename": "KeyboardInterrupt",
     "evalue": "",
     "output_type": "error",
     "traceback": [
      "\u001b[1;31m---------------------------------------------------------------------------\u001b[0m",
      "\u001b[1;31mKeyboardInterrupt\u001b[0m                         Traceback (most recent call last)",
      "\u001b[1;32m<ipython-input-22-63edc5c9aa0f>\u001b[0m in \u001b[0;36m<module>\u001b[1;34m\u001b[0m\n\u001b[0;32m     29\u001b[0m \u001b[0mtk\u001b[0m\u001b[1;33m.\u001b[0m\u001b[0mButton\u001b[0m\u001b[1;33m(\u001b[0m\u001b[0mroot\u001b[0m \u001b[1;33m,\u001b[0m \u001b[0mtext\u001b[0m \u001b[1;33m=\u001b[0m \u001b[1;34m'START NOTIFICATION'\u001b[0m \u001b[1;33m,\u001b[0m \u001b[0mcommand\u001b[0m \u001b[1;33m=\u001b[0m \u001b[0mstrt\u001b[0m\u001b[1;33m)\u001b[0m\u001b[1;33m.\u001b[0m\u001b[0mgrid\u001b[0m\u001b[1;33m(\u001b[0m\u001b[0mrow\u001b[0m \u001b[1;33m=\u001b[0m \u001b[1;36m6\u001b[0m\u001b[1;33m,\u001b[0m \u001b[0mcolumn\u001b[0m \u001b[1;33m=\u001b[0m \u001b[1;36m0\u001b[0m\u001b[1;33m)\u001b[0m\u001b[1;33m\u001b[0m\u001b[1;33m\u001b[0m\u001b[0m\n\u001b[0;32m     30\u001b[0m \u001b[1;33m\u001b[0m\u001b[0m\n\u001b[1;32m---> 31\u001b[1;33m \u001b[0mroot\u001b[0m\u001b[1;33m.\u001b[0m\u001b[0mmainloop\u001b[0m\u001b[1;33m(\u001b[0m\u001b[1;33m)\u001b[0m\u001b[1;33m\u001b[0m\u001b[1;33m\u001b[0m\u001b[0m\n\u001b[0m",
      "\u001b[1;32mC:\\Program Files\\Python39\\lib\\tkinter\\__init__.py\u001b[0m in \u001b[0;36mmainloop\u001b[1;34m(self, n)\u001b[0m\n\u001b[0;32m   1427\u001b[0m     \u001b[1;32mdef\u001b[0m \u001b[0mmainloop\u001b[0m\u001b[1;33m(\u001b[0m\u001b[0mself\u001b[0m\u001b[1;33m,\u001b[0m \u001b[0mn\u001b[0m\u001b[1;33m=\u001b[0m\u001b[1;36m0\u001b[0m\u001b[1;33m)\u001b[0m\u001b[1;33m:\u001b[0m\u001b[1;33m\u001b[0m\u001b[1;33m\u001b[0m\u001b[0m\n\u001b[0;32m   1428\u001b[0m         \u001b[1;34m\"\"\"Call the mainloop of Tk.\"\"\"\u001b[0m\u001b[1;33m\u001b[0m\u001b[1;33m\u001b[0m\u001b[0m\n\u001b[1;32m-> 1429\u001b[1;33m         \u001b[0mself\u001b[0m\u001b[1;33m.\u001b[0m\u001b[0mtk\u001b[0m\u001b[1;33m.\u001b[0m\u001b[0mmainloop\u001b[0m\u001b[1;33m(\u001b[0m\u001b[0mn\u001b[0m\u001b[1;33m)\u001b[0m\u001b[1;33m\u001b[0m\u001b[1;33m\u001b[0m\u001b[0m\n\u001b[0m\u001b[0;32m   1430\u001b[0m \u001b[1;33m\u001b[0m\u001b[0m\n\u001b[0;32m   1431\u001b[0m     \u001b[1;32mdef\u001b[0m \u001b[0mquit\u001b[0m\u001b[1;33m(\u001b[0m\u001b[0mself\u001b[0m\u001b[1;33m)\u001b[0m\u001b[1;33m:\u001b[0m\u001b[1;33m\u001b[0m\u001b[1;33m\u001b[0m\u001b[0m\n",
      "\u001b[1;31mKeyboardInterrupt\u001b[0m: "
     ]
    }
   ],
   "source": [
    "# or Generate notification using this\n",
    "from plyer import notification\n",
    "\n",
    "import tkinter as tk\n",
    "\n",
    "root = tk.Tk()\n",
    "\n",
    "tk.Label(root , text = 'NOTIFICATION DEVELOPER').grid(row = 0, column = 0)\n",
    "tk.Label(root , text = 'Notification Title:').grid(row = 3, column = 0)\n",
    "tk.Label(root , text = 'Notification Message').grid(row = 4, column = 0)\n",
    "tk.Label(root , text = 'Seconds for which it appears'). grid(row = 5, column = 0)\n",
    "\n",
    "t1 = tk.Entry(root)\n",
    "t1.grid(row = 3, column = 1)\n",
    "\n",
    "m = tk.Entry(root)\n",
    "m.grid(row = 4, column = 1)\n",
    "\n",
    "tm = tk.Entry(root)\n",
    "tm.grid(row = 5, column = 1)\n",
    "\n",
    "def strt():\n",
    "    a = int(tm.get())\n",
    "    notification.notify(\n",
    "    title = t1.get(),\n",
    "    message = m.get(),\n",
    "    timeout = a\n",
    "    )\n",
    "tk.Button(root , text = 'START NOTIFICATION' , command = strt).grid(row = 6, column = 0)\n",
    "\n",
    "root.mainloop()"
   ]
  },
  {
   "cell_type": "raw",
   "id": "earned-guide",
   "metadata": {},
   "source": [
    "If you want he notifications to be displayed again after some time, you can use time.sleep(a) and loop the code. (a = time after which the notification will be displayed again.\n",
    "\n",
    "For inserting icons, use app_icon:\n",
    "\n",
    "app_icon = 'Full path of .ico file'"
   ]
  },
  {
   "cell_type": "code",
   "execution_count": 10,
   "id": "empirical-parameter",
   "metadata": {},
   "outputs": [],
   "source": [
    "from reportlab.platypus import Table, Spacer"
   ]
  },
  {
   "cell_type": "code",
   "execution_count": 2,
   "id": "nuclear-vault",
   "metadata": {},
   "outputs": [],
   "source": [
    "from resume.settings import PAGE_FRAME_WIDTH"
   ]
  },
  {
   "cell_type": "code",
   "execution_count": 7,
   "id": "involved-valve",
   "metadata": {},
   "outputs": [
    {
     "data": {
      "text/plain": [
       "523.2755905511812"
      ]
     },
     "execution_count": 7,
     "metadata": {},
     "output_type": "execute_result"
    }
   ],
   "source": [
    "no_cols = 4\n",
    "col_widths = [PAGE_FRAME_WIDTH / no_cols for i in range(1, no_cols+1)]\n",
    "PAGE_FRAME_WIDTH"
   ]
  },
  {
   "cell_type": "code",
   "execution_count": 8,
   "id": "convinced-andrew",
   "metadata": {},
   "outputs": [
    {
     "data": {
      "text/plain": [
       "[130.8188976377953, 130.8188976377953, 130.8188976377953, 130.8188976377953]"
      ]
     },
     "execution_count": 8,
     "metadata": {},
     "output_type": "execute_result"
    }
   ],
   "source": [
    "col_widths"
   ]
  },
  {
   "cell_type": "code",
   "execution_count": 9,
   "id": "coated-assignment",
   "metadata": {},
   "outputs": [
    {
     "data": {
      "text/plain": [
       "[150.8188976377953, 150.8188976377953, 130.8188976377953, 130.8188976377953]"
      ]
     },
     "execution_count": 9,
     "metadata": {},
     "output_type": "execute_result"
    }
   ],
   "source": [
    "[150.8188976377953, 150.8188976377953, 90.8188976377953, 130.8188976377953]"
   ]
  },
  {
   "cell_type": "code",
   "execution_count": 11,
   "id": "duplicate-treaty",
   "metadata": {},
   "outputs": [
    {
     "ename": "TypeError",
     "evalue": "__init__() missing 2 required positional arguments: 'width' and 'height'",
     "output_type": "error",
     "traceback": [
      "\u001b[1;31m---------------------------------------------------------------------------\u001b[0m",
      "\u001b[1;31mTypeError\u001b[0m                                 Traceback (most recent call last)",
      "\u001b[1;32m<ipython-input-11-e4f304bf717c>\u001b[0m in \u001b[0;36m<module>\u001b[1;34m\u001b[0m\n\u001b[1;32m----> 1\u001b[1;33m \u001b[0mSpacer\u001b[0m\u001b[1;33m(\u001b[0m\u001b[1;33m)\u001b[0m\u001b[1;33m\u001b[0m\u001b[1;33m\u001b[0m\u001b[0m\n\u001b[0m",
      "\u001b[1;31mTypeError\u001b[0m: __init__() missing 2 required positional arguments: 'width' and 'height'"
     ]
    }
   ],
   "source": [
    "Spacer()"
   ]
  },
  {
   "cell_type": "code",
   "execution_count": 1,
   "id": "alive-budget",
   "metadata": {},
   "outputs": [],
   "source": [
    "from resume.text import data"
   ]
  },
  {
   "cell_type": "code",
   "execution_count": 2,
   "id": "outside-saint",
   "metadata": {},
   "outputs": [
    {
     "data": {
      "text/plain": [
       "dict_keys(['title', 'summary', 'keyskills', 'professional_summary', 'projects', 'education', 'other_certifications', 'contact'])"
      ]
     },
     "execution_count": 2,
     "metadata": {},
     "output_type": "execute_result"
    }
   ],
   "source": [
    "data.keys()"
   ]
  },
  {
   "cell_type": "code",
   "execution_count": 3,
   "id": "precious-progressive",
   "metadata": {},
   "outputs": [
    {
     "data": {
      "text/plain": [
       "['ABRSM- Royal School of Music, London - Certified in Music Theory']"
      ]
     },
     "execution_count": 3,
     "metadata": {},
     "output_type": "execute_result"
    }
   ],
   "source": [
    "data['other_certifications']['certificates']"
   ]
  },
  {
   "cell_type": "code",
   "execution_count": 5,
   "id": "satellite-breach",
   "metadata": {},
   "outputs": [
    {
     "data": {
      "text/plain": [
       "{'name': 'Santo K Thomas',\n",
       " 'address': 'Hennur, Bangalore',\n",
       " 'phone': '+91 8891960880',\n",
       " 'website': 'www.santokalayil.com'}"
      ]
     },
     "execution_count": 5,
     "metadata": {},
     "output_type": "execute_result"
    }
   ],
   "source": [
    "data['contact']"
   ]
  },
  {
   "cell_type": "code",
   "execution_count": null,
   "id": "christian-invitation",
   "metadata": {},
   "outputs": [],
   "source": []
  }
 ],
 "metadata": {
  "kernelspec": {
   "display_name": "Python 3",
   "language": "python",
   "name": "python3"
  },
  "language_info": {
   "codemirror_mode": {
    "name": "ipython",
    "version": 3
   },
   "file_extension": ".py",
   "mimetype": "text/x-python",
   "name": "python",
   "nbconvert_exporter": "python",
   "pygments_lexer": "ipython3",
   "version": "3.9.2"
  }
 },
 "nbformat": 4,
 "nbformat_minor": 5
}
